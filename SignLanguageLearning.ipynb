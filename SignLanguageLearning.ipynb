{
 "cells": [
  {
   "cell_type": "code",
   "execution_count": 59,
   "metadata": {},
   "outputs": [],
   "source": [
    "import numpy as np\n",
    "import pandas as pd\n",
    "import tensorflow as tf\n",
    "import matplotlib.pyplot as plt\n",
    "import keras\n",
    "from keras.models import Sequential\n",
    "from keras.layers import Dense, Conv2D, MaxPooling2D, Flatten, Dropout\n",
    "from sklearn.metrics import accuracy_score"
   ]
  },
  {
   "cell_type": "code",
   "execution_count": 9,
   "metadata": {},
   "outputs": [],
   "source": [
    "train_data = pd.read_csv('sign_mnist_train.csv')"
   ]
  },
  {
   "cell_type": "code",
   "execution_count": 46,
   "metadata": {},
   "outputs": [],
   "source": [
    "test_data = pd.read_csv('sign_mnist_test.csv')"
   ]
  },
  {
   "cell_type": "code",
   "execution_count": 10,
   "metadata": {},
   "outputs": [
    {
     "data": {
      "text/html": [
       "<div>\n",
       "<style scoped>\n",
       "    .dataframe tbody tr th:only-of-type {\n",
       "        vertical-align: middle;\n",
       "    }\n",
       "\n",
       "    .dataframe tbody tr th {\n",
       "        vertical-align: top;\n",
       "    }\n",
       "\n",
       "    .dataframe thead th {\n",
       "        text-align: right;\n",
       "    }\n",
       "</style>\n",
       "<table border=\"1\" class=\"dataframe\">\n",
       "  <thead>\n",
       "    <tr style=\"text-align: right;\">\n",
       "      <th></th>\n",
       "      <th>label</th>\n",
       "      <th>pixel1</th>\n",
       "      <th>pixel2</th>\n",
       "      <th>pixel3</th>\n",
       "      <th>pixel4</th>\n",
       "      <th>pixel5</th>\n",
       "      <th>pixel6</th>\n",
       "      <th>pixel7</th>\n",
       "      <th>pixel8</th>\n",
       "      <th>pixel9</th>\n",
       "      <th>...</th>\n",
       "      <th>pixel775</th>\n",
       "      <th>pixel776</th>\n",
       "      <th>pixel777</th>\n",
       "      <th>pixel778</th>\n",
       "      <th>pixel779</th>\n",
       "      <th>pixel780</th>\n",
       "      <th>pixel781</th>\n",
       "      <th>pixel782</th>\n",
       "      <th>pixel783</th>\n",
       "      <th>pixel784</th>\n",
       "    </tr>\n",
       "  </thead>\n",
       "  <tbody>\n",
       "    <tr>\n",
       "      <th>0</th>\n",
       "      <td>3</td>\n",
       "      <td>107</td>\n",
       "      <td>118</td>\n",
       "      <td>127</td>\n",
       "      <td>134</td>\n",
       "      <td>139</td>\n",
       "      <td>143</td>\n",
       "      <td>146</td>\n",
       "      <td>150</td>\n",
       "      <td>153</td>\n",
       "      <td>...</td>\n",
       "      <td>207</td>\n",
       "      <td>207</td>\n",
       "      <td>207</td>\n",
       "      <td>207</td>\n",
       "      <td>206</td>\n",
       "      <td>206</td>\n",
       "      <td>206</td>\n",
       "      <td>204</td>\n",
       "      <td>203</td>\n",
       "      <td>202</td>\n",
       "    </tr>\n",
       "    <tr>\n",
       "      <th>1</th>\n",
       "      <td>6</td>\n",
       "      <td>155</td>\n",
       "      <td>157</td>\n",
       "      <td>156</td>\n",
       "      <td>156</td>\n",
       "      <td>156</td>\n",
       "      <td>157</td>\n",
       "      <td>156</td>\n",
       "      <td>158</td>\n",
       "      <td>158</td>\n",
       "      <td>...</td>\n",
       "      <td>69</td>\n",
       "      <td>149</td>\n",
       "      <td>128</td>\n",
       "      <td>87</td>\n",
       "      <td>94</td>\n",
       "      <td>163</td>\n",
       "      <td>175</td>\n",
       "      <td>103</td>\n",
       "      <td>135</td>\n",
       "      <td>149</td>\n",
       "    </tr>\n",
       "  </tbody>\n",
       "</table>\n",
       "<p>2 rows × 785 columns</p>\n",
       "</div>"
      ],
      
      "text/plain": [
       "   label  pixel1  pixel2  pixel3  pixel4  pixel5  pixel6  pixel7  pixel8  \\\n",
       "0      3     107     118     127     134     139     143     146     150   \n",
       "1      6     155     157     156     156     156     157     156     158   \n",
       "\n",
       "   pixel9  ...  pixel775  pixel776  pixel777  pixel778  pixel779  pixel780  \\\n",
       "0     153  ...       207       207       207       207       206       206   \n",
       "1     158  ...        69       149       128        87        94       163   \n",
       "\n",
       "   pixel781  pixel782  pixel783  pixel784  \n",
       "0       206       204       203       202  \n",
       "1       175       103       135       149  \n",
       "\n",
       "[2 rows x 785 columns]"
      ]
     },
     "execution_count": 10,
     "metadata": {},
     "output_type": "execute_result"
    }
   ],
   "source": [
    "train_data.head(2)"
   ]
  },
  {
   "cell_type": "code",
   "execution_count": 11,
   "metadata": {},
   "outputs": [
    {
     "name": "stdout",
     "output_type": "stream",
     "text": [
      "Number of images:  27455\n"
     ]
    }
   ],
   "source": [
    "x = train_data.iloc[:,1:].values\n",
    "print(\"Number of images: \", x.shape[0])"
   ]
  },
  {
   "cell_type": "code",
   "execution_count": 13,
   "metadata": {},
   "outputs": [],
   "source": [
    "labels = train_data['label']\n",
    "train_data.drop('label', axis = 1, inplace = True)"
   ]
  },
  {
   "cell_type": "code",
   "execution_count": 14,
   "metadata": {},
   "outputs": [
    {
     "data": {
      "text/plain": [
       "array([ 0,  1,  2,  3,  4,  5,  6,  7,  8, 10, 11, 12, 13, 14, 15, 16, 17,\n",
       "       18, 19, 20, 21, 22, 23, 24], dtype=int64)"
      ]
     },
     "execution_count": 14,
     "metadata": {},
     "output_type": "execute_result"
    }
   ],
   "source": [
    "unique_val = np.array(labels)\n",
    "np.unique(unique_val)"
   ]
  },
  {
   "cell_type": "code",
   "execution_count": 26,
   "metadata": {},
   "outputs": [
    {
     "data": {
      "text/plain": [
       "(27455, 784)"
      ]
     },
     "execution_count": 26,
     "metadata": {},
     "output_type": "execute_result"
    }
   ],
   "source": [
    "Training_image1 = train_data.values\n",
    "Training_image1.shape"
   ]
  },
  {
   "cell_type": "code",
   "execution_count": 25,
   "metadata": {},
   "outputs": [
    {
     "data": {
      "text/plain": [
       "(27455, 784)"
      ]
     },
     "execution_count": 25,
     "metadata": {},
     "output_type": "execute_result"
    }
   ],
   "source": [
    "Training_images = train_data.values\n",
    "Training_images = np.array([np.reshape(i, (28,28)) for i in Training_images])\n",
    "images = np.array([i.flatten() for i in Training_images])\n",
    "images.shape"
   ]
  },
  {
   "cell_type": "code",
   "execution_count": 27,
   "metadata": {},
   "outputs": [],
   "source": [
    "from sklearn.preprocessing import LabelBinarizer\n",
    "label_binrizer = LabelBinarizer()\n",
    "labels = label_binrizer.fit_transform(labels)"
   ]
  },
  {
   "cell_type": "code",
   "execution_count": 28,
   "metadata": {},
   "outputs": [],
   "source": [
    "from sklearn.model_selection import train_test_split\n",
    "x_train, x_test, y_train, y_test = train_test_split(images, labels, test_size = 0.2, random_state = 101)"
   ]
  },
  {
   "cell_type": "code",
   "execution_count": 31,
   "metadata": {},
   "outputs": [],
   "source": [
    "batch_size = 128\n",
    "num_classes = 24\n",
    "epochs = 50"
   ]
  },
  {
   "cell_type": "code",
   "execution_count": 32,
   "metadata": {},
   "outputs": [],
   "source": [
    "x_train = x_train / 255\n",
    "x_test = x_test / 255"
   ]
  },
  {
   "cell_type": "code",
   "execution_count": 33,
   "metadata": {},
   "outputs": [],
   "source": [
    "x_train = x_train.reshape(x_train.shape[0], 28, 28, 1)"
   ]
  },
  {
   "cell_type": "code",
   "execution_count": 34,
   "metadata": {},
   "outputs": [],
   "source": [
    "x_test = x_test.reshape(x_test.shape[0], 28, 28, 1)"
   ]
  },
  {
   "cell_type": "code",
   "execution_count": 35,
   "metadata": {},
   "outputs": [
    {
     "data": {
      "text/plain": [
       "<matplotlib.image.AxesImage at 0x20b3408c2e8>"
      ]
     },
     "execution_count": 35,
     "metadata": {},
     "output_type": "execute_result"
    },
    {
     "data": {
      "image/png": "[encoded data removed]",
      "text/plain": [
       "<Figure size 432x288 with 1 Axes>"
      ]
     },
     "metadata": {
      "needs_background": "light"
     },
     "output_type": "display_data"
    }
   ],
   "source": [
    "plt.imshow(x_train[1].reshape(28,28))"
   ]
  },
  {
   "cell_type": "code",
   "execution_count": 36,
   "metadata": {},
   "outputs": [
    {
     "name": "stderr",
     "output_type": "stream",
     "text": [
      "WARNING: Logging before flag parsing goes to stderr.\n",
      "W0816 22:07:57.198247   904 deprecation_wrapper.py:119] From D:\\MiniConda\\envs\\tensorflow\\lib\\site-packages\\keras\\backend\\tensorflow_backend.py:74: The name tf.get_default_graph is deprecated. Please use tf.compat.v1.get_default_graph instead.\n",
      "\n",
      "W0816 22:07:58.060973   904 deprecation_wrapper.py:119] From D:\\MiniConda\\envs\\tensorflow\\lib\\site-packages\\keras\\backend\\tensorflow_backend.py:517: The name tf.placeholder is deprecated. Please use tf.compat.v1.placeholder instead.\n",
      "\n",
      "W0816 22:07:58.160964   904 deprecation_wrapper.py:119] From D:\\MiniConda\\envs\\tensorflow\\lib\\site-packages\\keras\\backend\\tensorflow_backend.py:4138: The name tf.random_uniform is deprecated. Please use tf.random.uniform instead.\n",
      "\n",
      "W0816 22:07:58.319930   904 deprecation_wrapper.py:119] From D:\\MiniConda\\envs\\tensorflow\\lib\\site-packages\\keras\\backend\\tensorflow_backend.py:3976: The name tf.nn.max_pool is deprecated. Please use tf.nn.max_pool2d instead.\n",
      "\n",
      "W0816 22:07:58.387872   904 deprecation_wrapper.py:119] From D:\\MiniConda\\envs\\tensorflow\\lib\\site-packages\\keras\\backend\\tensorflow_backend.py:133: The name tf.placeholder_with_default is deprecated. Please use tf.compat.v1.placeholder_with_default instead.\n",
      "\n",
      "W0816 22:07:58.394831   904 deprecation.py:506] From D:\\MiniConda\\envs\\tensorflow\\lib\\site-packages\\keras\\backend\\tensorflow_backend.py:3445: calling dropout (from tensorflow.python.ops.nn_ops) with keep_prob is deprecated and will be removed in a future version.\n",
      "Instructions for updating:\n",
      "Please use `rate` instead of `keep_prob`. Rate should be set to `rate = 1 - keep_prob`.\n"
     ]
    }
   ],
   "source": [
    "model = Sequential()\n",
    "model.add(Conv2D(128, kernel_size=(3,3), activation = 'relu', input_shape=(28, 28 ,1) ))\n",
    "model.add(MaxPooling2D(pool_size = (2, 2)))\n",
    "\n",
    "model.add(Conv2D(64, kernel_size = (3, 3), activation = 'relu'))\n",
    "model.add(MaxPooling2D(pool_size = (2, 2)))\n",
    "\n",
    "model.add(Conv2D(64, kernel_size = (3, 3), activation = 'relu'))\n",
    "model.add(MaxPooling2D(pool_size = (2, 2)))\n",
    "\n",
    "model.add(Flatten())\n",
    "model.add(Dense(128, activation = 'relu'))\n",
    "model.add(Dropout(0.20))\n",
    "model.add(Dense(num_classes, activation = 'softmax'))"
   ]
  },
  {
   "cell_type": "code",
   "execution_count": 37,
   "metadata": {},
   "outputs": [
    {
     "name": "stderr",
     "output_type": "stream",
     "text": [
      "W0816 22:08:22.944378   904 deprecation_wrapper.py:119] From D:\\MiniConda\\envs\\tensorflow\\lib\\site-packages\\keras\\optimizers.py:790: The name tf.train.Optimizer is deprecated. Please use tf.compat.v1.train.Optimizer instead.\n",
      "\n",
      "W0816 22:08:22.950377   904 deprecation_wrapper.py:119] From D:\\MiniConda\\envs\\tensorflow\\lib\\site-packages\\keras\\backend\\tensorflow_backend.py:3295: The name tf.log is deprecated. Please use tf.math.log instead.\n",
      "\n"
     ]
    }
   ],
   "source": [
    "model.compile(loss = keras.losses.categorical_crossentropy, optimizer=keras.optimizers.Adam(),\n",
    "              metrics=['accuracy'])"
   ]
  },
  {
   "cell_type": "code",
   "execution_count": 38,
   "metadata": {},
   "outputs": [
    {
     "name": "stderr",
     "output_type": "stream",
     "text": [
      "W0816 22:08:37.793258   904 deprecation.py:323] From D:\\MiniConda\\envs\\tensorflow\\lib\\site-packages\\tensorflow\\python\\ops\\math_grad.py:1250: add_dispatch_support.<locals>.wrapper (from tensorflow.python.ops.array_ops) is deprecated and will be removed in a future version.\n",
      "Instructions for updating:\n",
      "Use tf.where in 2.0, which has the same broadcast rule as np.where\n"
     ]
    },
    {
     "name": "stdout",
     "output_type": "stream",
     "text": [
      "Train on 21964 samples, validate on 5491 samples\n",
      "Epoch 1/50\n",
      "21964/21964 [==============================] - 34s 2ms/step - loss: 2.5630 - acc: 0.2069 - val_loss: 1.6390 - val_acc: 0.4657\n",
      "Epoch 2/50\n",
      "21964/21964 [==============================] - 33s 2ms/step - loss: 1.2496 - acc: 0.5767 - val_loss: 0.7322 - val_acc: 0.7704\n",
      "Epoch 3/50\n",
      "21964/21964 [==============================] - 33s 2ms/step - loss: 0.6895 - acc: 0.7621 - val_loss: 0.4063 - val_acc: 0.8787\n",
      "Epoch 4/50\n",
      "21964/21964 [==============================] - 35s 2ms/step - loss: 0.4283 - acc: 0.8539 - val_loss: 0.2635 - val_acc: 0.9241\n",
      "Epoch 5/50\n",
      "21964/21964 [==============================] - 37s 2ms/step - loss: 0.2809 - acc: 0.9071 - val_loss: 0.1592 - val_acc: 0.9567\n",
      "Epoch 6/50\n",
      "21964/21964 [==============================] - 37s 2ms/step - loss: 0.1830 - acc: 0.9410 - val_loss: 0.1228 - val_acc: 0.9614\n",
      "Epoch 7/50\n",
      "21964/21964 [==============================] - 36s 2ms/step - loss: 0.1341 - acc: 0.9569 - val_loss: 0.0530 - val_acc: 0.9916\n",
      "Epoch 8/50\n",
      "21964/21964 [==============================] - 36s 2ms/step - loss: 0.0890 - acc: 0.9748 - val_loss: 0.0365 - val_acc: 0.9949\n",
      "Epoch 9/50\n",
      "21964/21964 [==============================] - 38s 2ms/step - loss: 0.0668 - acc: 0.9820 - val_loss: 0.0323 - val_acc: 0.9940\n",
      "Epoch 10/50\n",
      "21964/21964 [==============================] - 36s 2ms/step - loss: 0.0480 - acc: 0.9867 - val_loss: 0.0407 - val_acc: 0.9882\n",
      "Epoch 11/50\n",
      "21964/21964 [==============================] - 37s 2ms/step - loss: 0.0393 - acc: 0.9896 - val_loss: 0.0137 - val_acc: 0.9984\n",
      "Epoch 12/50\n",
      "21964/21964 [==============================] - 37s 2ms/step - loss: 0.0310 - acc: 0.9916 - val_loss: 0.0091 - val_acc: 0.9987\n",
      "Epoch 13/50\n",
      "21964/21964 [==============================] - 38s 2ms/step - loss: 0.0267 - acc: 0.9936 - val_loss: 0.0070 - val_acc: 0.9991\n",
      "Epoch 14/50\n",
      "21964/21964 [==============================] - 36s 2ms/step - loss: 0.0217 - acc: 0.9945 - val_loss: 0.0058 - val_acc: 0.9998\n",
      "Epoch 15/50\n",
      "21964/21964 [==============================] - 38s 2ms/step - loss: 0.0199 - acc: 0.9953 - val_loss: 0.0054 - val_acc: 1.0000\n",
      "Epoch 16/50\n",
      "21964/21964 [==============================] - 38s 2ms/step - loss: 0.0182 - acc: 0.9950 - val_loss: 0.0105 - val_acc: 0.9976\n",
      "Epoch 17/50\n",
      "21964/21964 [==============================] - 39s 2ms/step - loss: 0.0178 - acc: 0.9950 - val_loss: 0.0061 - val_acc: 0.9993\n",
      "Epoch 18/50\n",
      "21964/21964 [==============================] - 40s 2ms/step - loss: 0.0156 - acc: 0.9958 - val_loss: 0.0028 - val_acc: 0.9998\n",
      "Epoch 19/50\n",
      "21964/21964 [==============================] - 41s 2ms/step - loss: 0.0161 - acc: 0.9957 - val_loss: 0.0026 - val_acc: 0.9995\n",
      "Epoch 20/50\n",
      "21964/21964 [==============================] - 46s 2ms/step - loss: 0.0119 - acc: 0.9966 - val_loss: 0.0035 - val_acc: 0.9995\n",
      "Epoch 21/50\n",
      "21964/21964 [==============================] - 42s 2ms/step - loss: 0.0082 - acc: 0.9980 - val_loss: 0.0024 - val_acc: 0.9998\n",
      "Epoch 22/50\n",
      "21964/21964 [==============================] - 41s 2ms/step - loss: 0.0128 - acc: 0.9971 - val_loss: 0.0081 - val_acc: 0.9984\n",
      "Epoch 23/50\n",
      "21964/21964 [==============================] - 44s 2ms/step - loss: 0.0130 - acc: 0.9962 - val_loss: 0.0021 - val_acc: 0.9995\n",
      "Epoch 24/50\n",
      "21964/21964 [==============================] - 37s 2ms/step - loss: 0.0054 - acc: 0.9992 - val_loss: 0.0015 - val_acc: 0.9996\n",
      "Epoch 25/50\n",
      "21964/21964 [==============================] - 35s 2ms/step - loss: 0.0169 - acc: 0.9946 - val_loss: 0.0051 - val_acc: 0.9991\n",
      "Epoch 26/50\n",
      "21964/21964 [==============================] - 38s 2ms/step - loss: 0.0080 - acc: 0.9980 - val_loss: 0.0030 - val_acc: 0.9993\n",
      "Epoch 27/50\n",
      "21964/21964 [==============================] - 39s 2ms/step - loss: 0.0074 - acc: 0.9978 - val_loss: 5.9852e-04 - val_acc: 1.0000\n",
      "Epoch 28/50\n",
      "21964/21964 [==============================] - 36s 2ms/step - loss: 0.0047 - acc: 0.9987 - val_loss: 0.0011 - val_acc: 0.9996\n",
      "Epoch 29/50\n",
      "21964/21964 [==============================] - 38s 2ms/step - loss: 0.0129 - acc: 0.9962 - val_loss: 8.9678e-04 - val_acc: 1.0000\n",
      "Epoch 30/50\n",
      "21964/21964 [==============================] - 39s 2ms/step - loss: 0.0047 - acc: 0.9987 - val_loss: 9.4261e-04 - val_acc: 0.9996\n",
      "Epoch 31/50\n",
      "21964/21964 [==============================] - 35s 2ms/step - loss: 0.0073 - acc: 0.9974 - val_loss: 0.0016 - val_acc: 0.9996\n",
      "Epoch 32/50\n",
      "21964/21964 [==============================] - 36s 2ms/step - loss: 0.0137 - acc: 0.9954 - val_loss: 0.0020 - val_acc: 0.9996\n",
      "Epoch 33/50\n",
      "21964/21964 [==============================] - 37s 2ms/step - loss: 0.0045 - acc: 0.9986 - val_loss: 0.0011 - val_acc: 0.9998\n",
      "Epoch 34/50\n",
      "21964/21964 [==============================] - 41s 2ms/step - loss: 0.0084 - acc: 0.9973 - val_loss: 0.0025 - val_acc: 0.9996\n",
      "Epoch 35/50\n",
      "21964/21964 [==============================] - 38s 2ms/step - loss: 0.0071 - acc: 0.9979 - val_loss: 0.0018 - val_acc: 0.9995\n",
      "Epoch 36/50\n",
      "21964/21964 [==============================] - 39s 2ms/step - loss: 0.0045 - acc: 0.9987 - val_loss: 0.0059 - val_acc: 0.9984\n",
      "Epoch 37/50\n",
      "21964/21964 [==============================] - 39s 2ms/step - loss: 0.0038 - acc: 0.9990 - val_loss: 4.2650e-04 - val_acc: 0.9998\n",
      "Epoch 38/50\n",
      "21964/21964 [==============================] - 37s 2ms/step - loss: 0.0046 - acc: 0.9986 - val_loss: 3.9577e-04 - val_acc: 1.0000\n",
      "Epoch 39/50\n",
      "21964/21964 [==============================] - 36s 2ms/step - loss: 0.0089 - acc: 0.9973 - val_loss: 0.0015 - val_acc: 0.9998\n",
      "Epoch 40/50\n",
      "21964/21964 [==============================] - 38s 2ms/step - loss: 0.0017 - acc: 0.9997 - val_loss: 2.2379e-04 - val_acc: 1.0000\n",
      "Epoch 41/50\n",
      "21964/21964 [==============================] - 35s 2ms/step - loss: 0.0020 - acc: 0.9996 - val_loss: 2.3700e-04 - val_acc: 1.0000\n",
      "Epoch 42/50\n",
      "21964/21964 [==============================] - 36s 2ms/step - loss: 0.0074 - acc: 0.9976 - val_loss: 0.0282 - val_acc: 0.9905\n",
      "Epoch 43/50\n",
      "21964/21964 [==============================] - 36s 2ms/step - loss: 0.0138 - acc: 0.9956 - val_loss: 5.3303e-04 - val_acc: 0.9998\n",
      "Epoch 44/50\n",
      "21964/21964 [==============================] - 38s 2ms/step - loss: 0.0024 - acc: 0.9995 - val_loss: 0.0014 - val_acc: 0.9996\n",
      "Epoch 45/50\n",
      "21964/21964 [==============================] - 34s 2ms/step - loss: 0.0042 - acc: 0.9988 - val_loss: 7.5297e-04 - val_acc: 1.0000\n",
      "Epoch 46/50\n",
      "21964/21964 [==============================] - 37s 2ms/step - loss: 0.0033 - acc: 0.9991 - val_loss: 1.2820e-04 - val_acc: 1.0000\n",
      "Epoch 47/50\n",
      "21964/21964 [==============================] - 38s 2ms/step - loss: 0.0033 - acc: 0.9990 - val_loss: 4.8363e-04 - val_acc: 1.0000\n",
      "Epoch 48/50\n",
      "21964/21964 [==============================] - 36s 2ms/step - loss: 0.0060 - acc: 0.9981 - val_loss: 2.4907e-04 - val_acc: 1.0000\n",
      "Epoch 49/50\n",
      "21964/21964 [==============================] - 36s 2ms/step - loss: 0.0058 - acc: 0.9982 - val_loss: 0.0010 - val_acc: 1.0000\n",
      "Epoch 50/50\n",
      "21964/21964 [==============================] - 36s 2ms/step - loss: 0.0090 - acc: 0.9974 - val_loss: 0.0017 - val_acc: 0.9996\n"
     ]
    }
   ],
   "source": [
    "history = model.fit(x_train, y_train, validation_data = (x_test, y_test), epochs=epochs, batch_size=batch_size)"
   ]
  },
  {
   "cell_type": "code",
   "execution_count": 43,
   "metadata": {},
   "outputs": [
    {
     "data": {
      "image/png": "[encoded data removed]",
      "text/plain": [
       "<Figure size 432x288 with 1 Axes>"
      ]
     },
     "metadata": {
      "needs_background": "light"
     },
     "output_type": "display_data"
    },
    {
     "data": {
      "text/plain": [
       "dict_keys(['val_loss', 'val_acc', 'loss', 'acc'])"
      ]
     },
     "execution_count": 43,
     "metadata": {},
     "output_type": "execute_result"
    }
   ],
   "source": [
    "#history.history.keys()\n",
    "plt.plot(history.history['acc'])\n",
    "plt.plot(history.history['val_acc'])\n",
    "plt.title(\"Accuracy\")\n",
    "plt.xlabel('epoch')\n",
    "plt.ylabel('accuracy')\n",
    "plt.legend(['train','test'])\n",
    "plt.show()\n"
   ]
  },
  {
   "cell_type": "code",
   "execution_count": 49,
   "metadata": {},
   "outputs": [],
   "source": [
    "test_labels = test_data['label']"
   ]
  },
  {
   "cell_type": "code",
   "execution_count": 52,
   "metadata": {},
   "outputs": [],
   "source": [
    "test_data.drop('label', axis = 1, inplace = True)"
   ]
  },
  {
   "cell_type": "code",
   "execution_count": 57,
   "metadata": {},
   "outputs": [
    {
     "data": {
      "text/plain": [
       "(7172, 28, 28, 1)"
      ]
     },
     "execution_count": 57,
     "metadata": {},
     "output_type": "execute_result"
    }
   ],
   "source": [
    "test_images = test_data.values\n",
    "test_images = test_images.reshape(test_images.shape[0], 28, 28, 1)\n",
    "test_images.shape"
   ]
  },
  {
   "cell_type": "code",
   "execution_count": 61,
   "metadata": {},
   "outputs": [],
   "source": [
    "test_images = test_data.values\n",
    "test_images = np.array([np.reshape(i, (28, 28)) for i in test_images])\n",
    "test_images = np.array([i.flatten() for i in test_images])\n",
    "test_images = test_images.reshape(test_images.shape[0], 28, 28, 1)"
   ]
  },
  {
   "cell_type": "code",
   "execution_count": 62,
   "metadata": {},
   "outputs": [],
   "source": [
    "test_labels = label_binrizer.fit_transform(test_labels)"
   ]
  },
  {
   "cell_type": "code",
   "execution_count": 63,
   "metadata": {},
   "outputs": [],
   "source": [
    "y_pred = model.predict(test_images)"
   ]
  },
  {
   "cell_type": "code",
   "execution_count": 64,
   "metadata": {},
   "outputs": [
    {
     "data": {
      "text/plain": [
       "0.8070273284997211"
      ]
     },
     "execution_count": 64,
     "metadata": {},
     "output_type": "execute_result"
    }
   ],
   "source": [
    "accuracy_score(test_labels, y_pred.round())"
   ]
  }
 ],
 "metadata": {
  "kernelspec": {
   "display_name": "Python 3.6 (tensorflow)",
   "language": "python",
   "name": "tensorflow"
  },
  "language_info": {
   "codemirror_mode": {
    "name": "ipython",
    "version": 3
   },
   "file_extension": ".py",
   "mimetype": "text/x-python",
   "name": "python",
   "nbconvert_exporter": "python",
   "pygments_lexer": "ipython3",
   "version": "3.6.8"
  }
 },
 "nbformat": 4,
 "nbformat_minor": 2
}
